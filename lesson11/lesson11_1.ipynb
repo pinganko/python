{
 "cells": [
  {
   "cell_type": "code",
   "execution_count": 10,
   "metadata": {},
   "outputs": [
    {
     "name": "stdout",
     "output_type": "stream",
     "text": [
      "沒有這個檔\n"
     ]
    }
   ],
   "source": [
    "import os\n",
    "\n",
    "file_path = os.path.abspath(__name__) #檔案的絕對位置\n",
    "current_dir_name = os.path.dirname(file_path) #取得目前的目錄\n",
    "file_position = os.path.join(current_dir_name,'data','class.csv') #操作檔案的絕對位置\n",
    "if os.path.isfile(file_position):\n",
    "    print(\"有這個檔\")\n",
    "else:\n",
    "    print(\"沒有這個檔\")"
   ]
  },
  {
   "cell_type": "code",
   "execution_count": 13,
   "metadata": {},
   "outputs": [],
   "source": [
    "file = open(file_position,mode='w',encoding='utf-8')\n",
    "file.write('姓名,國文,英文,數學\\n徐國堂,100,100,100\\n')\n",
    "file.close()"
   ]
  },
  {
   "cell_type": "code",
   "execution_count": 14,
   "metadata": {},
   "outputs": [],
   "source": [
    "#自動關閉file物件\n",
    "with open(file_position,mode='w',encoding='utf-8') as file:\n",
    "    file.write('姓名,國文,英文,數學\\n徐國堂,99,99,99\\n')\n"
   ]
  },
  {
   "cell_type": "code",
   "execution_count": 16,
   "metadata": {},
   "outputs": [
    {
     "data": {
      "text/plain": [
       "{'姓名': '徐國堂', '國文': 96, '數學': 78, '英文': 76}"
      ]
     },
     "execution_count": 16,
     "metadata": {},
     "output_type": "execute_result"
    }
   ],
   "source": [
    "#用符號1位學生\n",
    "{'姓名':'徐國堂',\n",
    " '國文':96,\n",
    " '數學':78,\n",
    " '英文':76}"
   ]
  },
  {
   "cell_type": "code",
   "execution_count": 18,
   "metadata": {},
   "outputs": [
    {
     "data": {
      "text/plain": [
       "[{'姓名': '徐國堂', '國文': 96, '數學': 78, '英文': 76},\n",
       " {'姓名': 'robert', '國文': 75, '數學': 89, '英文': 65}]"
      ]
     },
     "execution_count": 18,
     "metadata": {},
     "output_type": "execute_result"
    }
   ],
   "source": [
    "#用符號2位學生\n",
    "[{'姓名':'徐國堂',\n",
    " '國文':96,\n",
    " '數學':78,\n",
    " '英文':76}\n",
    " ,\n",
    " {'姓名':'robert',\n",
    " '國文':75,\n",
    " '數學':89,\n",
    " '英文':65}\n",
    "]"
   ]
  },
  {
   "cell_type": "code",
   "execution_count": 21,
   "metadata": {},
   "outputs": [
    {
     "data": {
      "text/plain": [
       "[{'姓名': '徐國堂', '國文': 96, '數學': 78, '英文': 76},\n",
       " {'姓名': 'robert', '國文': 75, '數學': 89, '英文': 65}]"
      ]
     },
     "execution_count": 21,
     "metadata": {},
     "output_type": "execute_result"
    }
   ],
   "source": [
    "#使用list()建立list實體\n",
    "\n",
    "students = list()\n",
    "students.append(\n",
    "{'姓名':'徐國堂',\n",
    " '國文':96,\n",
    " '數學':78,\n",
    " '英文':76}\n",
    " )\n",
    "\n",
    "students.append(\n",
    "    {'姓名':'robert',\n",
    "    '國文':75,\n",
    "    '數學':89,\n",
    "    '英文':65}\n",
    ")\n",
    "\n",
    "students"
   ]
  }
 ],
 "metadata": {
  "kernelspec": {
   "display_name": "Python 3",
   "language": "python",
   "name": "python3"
  },
  "language_info": {
   "codemirror_mode": {
    "name": "ipython",
    "version": 3
   },
   "file_extension": ".py",
   "mimetype": "text/x-python",
   "name": "python",
   "nbconvert_exporter": "python",
   "pygments_lexer": "ipython3",
   "version": "3.11.9"
  }
 },
 "nbformat": 4,
 "nbformat_minor": 2
}
