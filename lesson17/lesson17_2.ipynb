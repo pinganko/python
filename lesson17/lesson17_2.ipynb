{
 "cells": [
  {
   "cell_type": "code",
   "execution_count": null,
   "metadata": {},
   "outputs": [],
   "source": [
    "import pandas as pd\n",
    "all = pd.read_csv('world.csv')\n",
    "all_filter = all[['洲名','國家','日期','總確診數','新增確診數']]\n",
    "all_filter"
   ]
  },
  {
   "cell_type": "code",
   "execution_count": null,
   "metadata": {},
   "outputs": [],
   "source": [
    "all_filter[all_filter['國家'] == '台灣']"
   ]
  },
  {
   "cell_type": "code",
   "execution_count": null,
   "metadata": {},
   "outputs": [],
   "source": [
    "all_filter[(all_filter['國家'] == '台灣') | (all_filter['國家'] == '日本')]"
   ]
  },
  {
   "cell_type": "code",
   "execution_count": null,
   "metadata": {},
   "outputs": [],
   "source": [
    "#query()\n",
    "all_filter.query('國家==\"台灣\"')\n",
    "taiwan_japan = all_filter.query('國家==\"台灣\" or 國家==\"日本\"')"
   ]
  },
  {
   "cell_type": "code",
   "execution_count": 16,
   "metadata": {},
   "outputs": [
    {
     "data": {
      "text/html": [
       "<div>\n",
       "<style scoped>\n",
       "    .dataframe tbody tr th:only-of-type {\n",
       "        vertical-align: middle;\n",
       "    }\n",
       "\n",
       "    .dataframe tbody tr th {\n",
       "        vertical-align: top;\n",
       "    }\n",
       "\n",
       "    .dataframe thead th {\n",
       "        text-align: right;\n",
       "    }\n",
       "</style>\n",
       "<table border=\"1\" class=\"dataframe\">\n",
       "  <thead>\n",
       "    <tr style=\"text-align: right;\">\n",
       "      <th></th>\n",
       "      <th>洲名</th>\n",
       "      <th>國家</th>\n",
       "      <th>日期</th>\n",
       "      <th>總確診數</th>\n",
       "      <th>新增確診數</th>\n",
       "    </tr>\n",
       "  </thead>\n",
       "  <tbody>\n",
       "    <tr>\n",
       "      <th>86371</th>\n",
       "      <td>亞洲</td>\n",
       "      <td>日本</td>\n",
       "      <td>2022-02-05</td>\n",
       "      <td>3219621</td>\n",
       "      <td>102275</td>\n",
       "    </tr>\n",
       "    <tr>\n",
       "      <th>164737</th>\n",
       "      <td>亞洲</td>\n",
       "      <td>台灣</td>\n",
       "      <td>2022-02-05</td>\n",
       "      <td>19101</td>\n",
       "      <td>72</td>\n",
       "    </tr>\n",
       "  </tbody>\n",
       "</table>\n",
       "</div>"
      ],
      "text/plain": [
       "        洲名  國家          日期     總確診數   新增確診數\n",
       "86371   亞洲  日本  2022-02-05  3219621  102275\n",
       "164737  亞洲  台灣  2022-02-05    19101      72"
      ]
     },
     "execution_count": 16,
     "metadata": {},
     "output_type": "execute_result"
    }
   ],
   "source": [
    "taiwan_japan.query('日期==\"2022-02-05\"')"
   ]
  },
  {
   "cell_type": "code",
   "execution_count": null,
   "metadata": {},
   "outputs": [],
   "source": [
    "february = taiwan_japan.query('日期>=\"2022-02-01\" and 日期<\"2022-03-01\"')\n",
    "february"
   ]
  },
  {
   "cell_type": "code",
   "execution_count": 23,
   "metadata": {},
   "outputs": [],
   "source": [
    "february.to_csv('february.csv')"
   ]
  },
  {
   "cell_type": "code",
   "execution_count": 25,
   "metadata": {},
   "outputs": [],
   "source": [
    "february.to_excel('february.xlsx')"
   ]
  }
 ],
 "metadata": {
  "kernelspec": {
   "display_name": "Python 3",
   "language": "python",
   "name": "python3"
  },
  "language_info": {
   "codemirror_mode": {
    "name": "ipython",
    "version": 3
   },
   "file_extension": ".py",
   "mimetype": "text/x-python",
   "name": "python",
   "nbconvert_exporter": "python",
   "pygments_lexer": "ipython3",
   "version": "3.11.9"
  }
 },
 "nbformat": 4,
 "nbformat_minor": 2
}
