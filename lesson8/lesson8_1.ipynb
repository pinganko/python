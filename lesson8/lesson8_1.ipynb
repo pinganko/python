{
 "cells": [
  {
   "cell_type": "code",
   "execution_count": 4,
   "metadata": {},
   "outputs": [
    {
     "name": "stdout",
     "output_type": "stream",
     "text": [
      "40016.666666666664\n",
      "6.333333333333333\n",
      "40023.333333333336\n"
     ]
    }
   ],
   "source": [
    "#自訂funciton\n",
    "def myFunction(x, y):\n",
    "    return x ** 2 * y ** 2 + x / 3 + y\n",
    "\n",
    "\n",
    "#呼叫function\n",
    "print(myFunction(20, 10))\n",
    "print(myFunction(1, 2))\n",
    "print(myFunction(10, 20))"
   ]
  },
  {
   "cell_type": "code",
   "execution_count": 5,
   "metadata": {},
   "outputs": [
    {
     "name": "stdout",
     "output_type": "stream",
     "text": [
      "73\n",
      "===========猜數字遊戲============\n",
      "\n",
      "賓果!猜對了, 答案是:73\n",
      "您猜了1次\n",
      "47\n",
      "===========猜數字遊戲============\n",
      "\n",
      "賓果!猜對了, 答案是:47\n",
      "您猜了1次\n",
      "應用程式結束\n"
     ]
    }
   ],
   "source": [
    "import random\n",
    "\n",
    "def play_game():\n",
    "    min = 1\n",
    "    max = 100\n",
    "    target = random.randint(min, max)\n",
    "    print(target)\n",
    "    print(\"===========猜數字遊戲============\\n\")\n",
    "    count = 0\n",
    "\n",
    "    while True:\n",
    "        \n",
    "        try:\n",
    "            keyin = int(input(f\"猜數字範圍{min}~{max}:\"))\n",
    "            count += 1\n",
    "        except:\n",
    "            print(\"格式錯誤\")     # 輸入錯誤不算次數\n",
    "            continue\n",
    "\n",
    "        if keyin < min or keyin > max:\n",
    "            print(\"超過範圍\")        \n",
    "            continue\n",
    "\n",
    "        \n",
    "\n",
    "        if keyin == target:\n",
    "            print(f\"賓果!猜對了, 答案是:{keyin}\")\n",
    "            print(f\"您猜了{count}次\")\n",
    "            break\n",
    "        elif keyin > target:\n",
    "            print(\"再小一點\")\n",
    "            max = keyin - 1\n",
    "            \n",
    "        elif keyin < target:\n",
    "            print(\"再大一點\")\n",
    "            min = keyin + 1\n",
    "        print(f\"您已經猜了{count}次\")\n",
    "\n",
    "while True:\n",
    "    play_game()  \n",
    "    play = input(\"是否繼續(y/n)\")\n",
    "    if play == \"n\":\n",
    "        break       \n",
    "print(\"應用程式結束\")"
   ]
  }
 ],
 "metadata": {
  "kernelspec": {
   "display_name": "Python 3",
   "language": "python",
   "name": "python3"
  },
  "language_info": {
   "codemirror_mode": {
    "name": "ipython",
    "version": 3
   },
   "file_extension": ".py",
   "mimetype": "text/x-python",
   "name": "python",
   "nbconvert_exporter": "python",
   "pygments_lexer": "ipython3",
   "version": "3.11.9"
  }
 },
 "nbformat": 4,
 "nbformat_minor": 2
}
