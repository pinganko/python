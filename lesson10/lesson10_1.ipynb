{
 "cells": [
  {
   "cell_type": "code",
   "execution_count": 1,
   "metadata": {},
   "outputs": [
    {
     "name": "stdout",
     "output_type": "stream",
     "text": [
      "請輸入姓名：徐國堂 \n",
      "\n",
      "請輸入身高(cm)：183 \n",
      "\n",
      "請輸入體重(kg)：80 \n",
      "\n",
      "徐國堂你好\n",
      "身高是：183公分\n",
      "體重是：80公斤\n",
      "BMI:23.89\n",
      "體重正常\n",
      "應用程式結束\n"
     ]
    }
   ],
   "source": [
    "import pyinputplus as pyip\n",
    "\n",
    "class Person():\n",
    "    def __init__(self,n:str,h:int,w:int):\n",
    "        self.name = n\n",
    "        self.height = h\n",
    "        self.weight = w\n",
    "\n",
    "    def getBmi(self) -> float:\n",
    "        return self.weight / (self.height/100) ** 2\n",
    "    \n",
    "    def get_status(self) -> str:\n",
    "        bmi:float = self.getBmi()\n",
    "        if bmi >= 35:\n",
    "            return '重度肥胖'\n",
    "        elif bmi >= 30:\n",
    "            return '中度肥胖'\n",
    "        elif bmi >= 27:\n",
    "            return '輕度肥胖'\n",
    "        elif bmi >= 24:\n",
    "            return '體重過重'\n",
    "        elif bmi >= 18.5:\n",
    "            return '體重正常'\n",
    "        else:\n",
    "            return '體重過輕'\n",
    "        \n",
    "    def bmi_print(self)->str:\n",
    "        return f\"{self.name}你好\\n身高是：{self.height}公分\\n體重是：{self.weight}公斤\\nBMI:{round(self.getBmi(),ndigits=2)}\\n{self.get_status()}\"\n",
    "    \n",
    "while True:       \n",
    "    name = pyip.inputStr(\"請輸入姓名：\")\n",
    "    print(name,\"\\n\")\n",
    "\n",
    "    height= pyip.inputNum(\"請輸入身高(cm)：\")\n",
    "    print(height,\"\\n\")\n",
    "    weight = pyip.inputNum(\"請輸入體重(kg)：\")\n",
    "    print(weight,\"\\n\")\n",
    "\n",
    "    p = Person(name,height,weight)\n",
    "    print(p.bmi_print())\n",
    "    \n",
    "    answer=input(\"離開(q)or繼續(c)\")\n",
    "    if answer==\"q\":\n",
    "        break\n",
    "    \n",
    "        \n",
    "print(\"應用程式結束\")"
   ]
  },
  {
   "cell_type": "code",
   "execution_count": 4,
   "metadata": {},
   "outputs": [
    {
     "name": "stdout",
     "output_type": "stream",
     "text": [
      "請輸入姓名：robert \n",
      "\n",
      "請輸入身高(cm)：180 \n",
      "\n",
      "請輸入體重(kg)：75 \n",
      "\n"
     ]
    },
    {
     "ename": "AttributeError",
     "evalue": "property 'height' of 'Person' object has no setter",
     "output_type": "error",
     "traceback": [
      "\u001b[0;31m---------------------------------------------------------------------------\u001b[0m",
      "\u001b[0;31mAttributeError\u001b[0m                            Traceback (most recent call last)",
      "Cell \u001b[0;32mIn[4], line 52\u001b[0m\n\u001b[1;32m     48\u001b[0m \u001b[38;5;28mprint\u001b[39m(weight,\u001b[38;5;124m\"\u001b[39m\u001b[38;5;130;01m\\n\u001b[39;00m\u001b[38;5;124m\"\u001b[39m)\n\u001b[1;32m     50\u001b[0m p \u001b[38;5;241m=\u001b[39m Person(name,height,weight)\n\u001b[0;32m---> 52\u001b[0m \u001b[43mp\u001b[49m\u001b[38;5;241;43m.\u001b[39;49m\u001b[43mheight\u001b[49m \u001b[38;5;241m=\u001b[39m \u001b[38;5;241m1000\u001b[39m\n\u001b[1;32m     54\u001b[0m p\u001b[38;5;241m.\u001b[39mbmi_print()\n",
      "\u001b[0;31mAttributeError\u001b[0m: property 'height' of 'Person' object has no setter"
     ]
    }
   ],
   "source": [
    "import pyinputplus as pyip\n",
    "\n",
    "class Person():\n",
    "    def __init__(self,n:str,h:int,w:int):\n",
    "        self._name = n\n",
    "        self._height = h\n",
    "        self._weight = w\n",
    "\n",
    "    @property\n",
    "    def name(self) -> str:\n",
    "        return self._name\n",
    "    \n",
    "    @property\n",
    "    def height(self)->int:\n",
    "        return self._height\n",
    "    \n",
    "    @property\n",
    "    def weight(self)->int:\n",
    "        return self._weight\n",
    "\n",
    "    def getBmi(self) -> float:\n",
    "        return self.weight / (self.height/100) ** 2\n",
    "    \n",
    "    def get_status(self) -> str:\n",
    "        bmi:float = self.getBmi()\n",
    "        if bmi >= 35:\n",
    "            return '重度肥胖'\n",
    "        elif bmi >= 30:\n",
    "            return '中度肥胖'\n",
    "        elif bmi >= 27:\n",
    "            return '輕度肥胖'\n",
    "        elif bmi >= 24:\n",
    "            return '體重過重'\n",
    "        elif bmi >= 18.5:\n",
    "            return '體重正常'\n",
    "        else:\n",
    "            return '體重過輕'\n",
    "        \n",
    "    def bmi_print(self)->str:\n",
    "        return f\"{self.name}你好\\n身高是：{self.height}公分\\n體重是：{self.weight}公斤\\nBMI:{round(self.getBmi(),ndigits=2)}\\n{self.get_status()}\"\n",
    "       \n",
    "name = pyip.inputStr(\"請輸入姓名：\")\n",
    "print(name,\"\\n\")\n",
    "\n",
    "height= pyip.inputNum(\"請輸入身高(cm)：\")\n",
    "print(height,\"\\n\")\n",
    "weight = pyip.inputNum(\"請輸入體重(kg)：\")\n",
    "print(weight,\"\\n\")\n",
    "\n",
    "p = Person(name,height,weight)\n",
    "\n",
    "p.height = 1000\n",
    "\n",
    "p.bmi_print()\n",
    "    \n",
    "\n",
    "    \n",
    "        \n"
   ]
  }
 ],
 "metadata": {
  "kernelspec": {
   "display_name": "Python 3",
   "language": "python",
   "name": "python3"
  },
  "language_info": {
   "codemirror_mode": {
    "name": "ipython",
    "version": 3
   },
   "file_extension": ".py",
   "mimetype": "text/x-python",
   "name": "python",
   "nbconvert_exporter": "python",
   "pygments_lexer": "ipython3",
   "version": "3.11.9"
  }
 },
 "nbformat": 4,
 "nbformat_minor": 2
}
