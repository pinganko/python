{
 "cells": [
  {
   "cell_type": "code",
   "execution_count": 3,
   "metadata": {},
   "outputs": [],
   "source": [
    "import numpy as np\n",
    "\n",
    "students = np.random.randint(50,101,size=(50,5))"
   ]
  },
  {
   "cell_type": "code",
   "execution_count": 4,
   "metadata": {},
   "outputs": [
    {
     "data": {
      "text/plain": [
       "2"
      ]
     },
     "metadata": {},
     "output_type": "display_data"
    },
    {
     "data": {
      "text/plain": [
       "250"
      ]
     },
     "metadata": {},
     "output_type": "display_data"
    },
    {
     "data": {
      "text/plain": [
       "(50, 5)"
      ]
     },
     "metadata": {},
     "output_type": "display_data"
    }
   ],
   "source": [
    "display(students.ndim)\n",
    "display(students.size)\n",
    "display(students.shape)"
   ]
  },
  {
   "cell_type": "code",
   "execution_count": 8,
   "metadata": {},
   "outputs": [
    {
     "name": "stdout",
     "output_type": "stream",
     "text": [
      "3635\n"
     ]
    }
   ],
   "source": [
    "#一個科目的總分\n",
    "print(students[:,0].sum())"
   ]
  },
  {
   "cell_type": "code",
   "execution_count": 12,
   "metadata": {},
   "outputs": [
    {
     "name": "stdout",
     "output_type": "stream",
     "text": [
      "316\n",
      "63.2\n",
      "78\n",
      "55\n",
      "8.518215775618742\n"
     ]
    }
   ],
   "source": [
    "#第一個學生的總分\n",
    "print(students[0].sum())\n",
    "print(students[0].mean())\n",
    "print(students[0].max())\n",
    "print(students[0].min())\n",
    "print(students[0].std())"
   ]
  },
  {
   "cell_type": "code",
   "execution_count": 15,
   "metadata": {},
   "outputs": [
    {
     "data": {
      "text/plain": [
       "array([63.2, 62. , 70.2, 83.4, 68. , 74.4, 78.6, 78. , 75.2, 83.4, 72. ,\n",
       "       70.2, 70.2, 63.6, 73. , 87.4, 60.4, 78.2, 70.2, 82.4, 73. , 68. ,\n",
       "       70.4, 74.8, 65. , 82.6, 74.8, 81.8, 82. , 70.8, 72.6, 74.6, 74. ,\n",
       "       89.2, 74.2, 59. , 82.8, 71.4, 80.4, 75.2, 77. , 79.2, 65.6, 85.2,\n",
       "       87. , 73. , 66.8, 67.2, 82.8, 69.6])"
      ]
     },
     "execution_count": 15,
     "metadata": {},
     "output_type": "execute_result"
    }
   ],
   "source": [
    "np.mean(students,axis=1)"
   ]
  }
 ],
 "metadata": {
  "kernelspec": {
   "display_name": "Python 3",
   "language": "python",
   "name": "python3"
  },
  "language_info": {
   "codemirror_mode": {
    "name": "ipython",
    "version": 3
   },
   "file_extension": ".py",
   "mimetype": "text/x-python",
   "name": "python",
   "nbconvert_exporter": "python",
   "pygments_lexer": "ipython3",
   "version": "3.11.9"
  }
 },
 "nbformat": 4,
 "nbformat_minor": 2
}
