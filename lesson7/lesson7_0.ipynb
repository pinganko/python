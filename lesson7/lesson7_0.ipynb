{
 "cells": [
  {
   "cell_type": "code",
   "execution_count": 2,
   "metadata": {},
   "outputs": [
    {
     "name": "stdout",
     "output_type": "stream",
     "text": [
      "\n",
      "徐國堂你好\n",
      "身高是：157公分\n",
      "體重是：60公斤\n",
      "BMI:24.34\n",
      "體重過重\n",
      "\n"
     ]
    }
   ],
   "source": [
    "name = input(\"請輸入姓名：\")\n",
    "height = eval(input(\"請輸入身高(cm)：\"))\n",
    "weight = eval(input(\"請輸入體重(kg)：\"))\n",
    "bmi = weight/(height/100) ** 2\n",
    "if bmi >= 35:\n",
    "    status = '重度肥胖'\n",
    "elif bmi >= 30:\n",
    "    status = '中度肥胖'\n",
    "elif bmi >= 27:\n",
    "    status = '輕度肥胖'\n",
    "elif bmi >= 24:\n",
    "    status = '體重過重'\n",
    "elif bmi >= 18.5:\n",
    "    status = '體重正常'\n",
    "else:\n",
    "    status = '體重過輕'\n",
    "print(f\"\"\"\n",
    "{name}你好\n",
    "身高是：{height}公分\n",
    "體重是：{weight}公斤\n",
    "BMI:{round(bmi,ndigits=2)}\n",
    "{status}\n",
    "\"\"\")"
   ]
  },
  {
   "cell_type": "code",
   "execution_count": 6,
   "metadata": {},
   "outputs": [
    {
     "name": "stdout",
     "output_type": "stream",
     "text": [
      "請輸入2數,求2數公因數:\n",
      "1 2 5 10 "
     ]
    }
   ],
   "source": [
    "print(\"請輸入2數,求2數公因數:\")\n",
    "n = int(input('請輸入第1個數:'))\n",
    "m = int(input('請輸入第2個數:'))\n",
    "\n",
    "min = n if not(n > m) else m\n",
    "\n",
    "for i in range(1,min+1):\n",
    "    if n % i == 0 and m % i == 0:\n",
    "        print(i,end=' ')"
   ]
  },
  {
   "cell_type": "code",
   "execution_count": 7,
   "metadata": {},
   "outputs": [
    {
     "name": "stdout",
     "output_type": "stream",
     "text": [
      "TAIWAN\n",
      "SHILIN\n",
      "應用程式結束\n"
     ]
    }
   ],
   "source": [
    "#不知道執行的次數\n",
    "#請輸入小寫英文字,會輸出大寫英文字[按q會離開]:\n",
    "stuff = input(\"請輸入小寫英文字[按q會離開]\")\n",
    "while stuff != 'q':\n",
    "    print(stuff.upper())\n",
    "    stuff = input(\"請輸入小寫英文字[按q會離開]\")\n",
    "\n",
    "print(\"應用程式結束\")"
   ]
  },
  {
   "cell_type": "code",
   "execution_count": 8,
   "metadata": {},
   "outputs": [
    {
     "name": "stdout",
     "output_type": "stream",
     "text": [
      "TAIWAN\n",
      "JAPAN\n",
      "應用程式結束\n"
     ]
    }
   ],
   "source": [
    "#不知道執行的次數\n",
    "#請輸入小寫英文字,會輸出大寫英文字[按q會離開]:\n",
    "\n",
    "while True:\n",
    "    stuff = input(\"請輸入小寫英文字[按q會離開]\")\n",
    "    if stuff == 'q':\n",
    "        break\n",
    "    print(stuff.upper())\n",
    "    \n",
    "\n",
    "print(\"應用程式結束\")"
   ]
  },
  {
   "cell_type": "code",
   "execution_count": 9,
   "metadata": {},
   "outputs": [
    {
     "name": "stdout",
     "output_type": "stream",
     "text": [
      "25\n",
      "9\n",
      "輸入格式錯誤\n",
      "輸入格式錯誤\n",
      "應用程式結束\n"
     ]
    }
   ],
   "source": [
    "#請輸入整數,輸入[q]離開:\"\n",
    "#奇數輸出平方\n",
    "#偶數不做任何動作\n",
    "\n",
    "while True:\n",
    "    letter = input(\"請輸入整數,輸入[q]離開:\")\n",
    "    if letter == 'q':\n",
    "        break\n",
    "    try:\n",
    "        number = int(letter)\n",
    "    except:\n",
    "        print('輸入格式錯誤,請重新輸入')\n",
    "        continue\n",
    "    \n",
    "    if not number % 2 == 0:\n",
    "        print(number ** 2)\n",
    "\n",
    "print(\"應用程式結束\")\n"
   ]
  }
 ],
 "metadata": {
  "kernelspec": {
   "display_name": "Python 3",
   "language": "python",
   "name": "python3"
  },
  "language_info": {
   "codemirror_mode": {
    "name": "ipython",
    "version": 3
   },
   "file_extension": ".py",
   "mimetype": "text/x-python",
   "name": "python",
   "nbconvert_exporter": "python",
   "pygments_lexer": "ipython3",
   "version": "3.11.9"
  }
 },
 "nbformat": 4,
 "nbformat_minor": 2
}
