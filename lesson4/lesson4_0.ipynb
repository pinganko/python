{
 "cells": [
  {
   "cell_type": "code",
   "execution_count": 1,
   "metadata": {},
   "outputs": [
    {
     "name": "stdout",
     "output_type": "stream",
     "text": [
      "徐國堂您好\n",
      "身高是170公分\n",
      "體重是68公斤\n",
      "BMI為23.53\n"
     ]
    }
   ],
   "source": [
    "name = input(\"請輸入姓名\")\n",
    "h = eval(input(\"請輸入身高(cm)\"))\n",
    "w = eval(input(\"請輸入體重(kg)\"))\n",
    "\n",
    "BMI = w /(h/100) ** 2\n",
    "\n",
    "print(f\"\"\"{name}您好\n",
    "身高是{h}公分\n",
    "體重是{w}公斤\n",
    "BMI為{round(BMI,ndigits=2)}\"\"\")\n",
    "\n"
   ]
  }
 ],
 "metadata": {
  "kernelspec": {
   "display_name": "Python 3",
   "language": "python",
   "name": "python3"
  },
  "language_info": {
   "codemirror_mode": {
    "name": "ipython",
    "version": 3
   },
   "file_extension": ".py",
   "mimetype": "text/x-python",
   "name": "python",
   "nbconvert_exporter": "python",
   "pygments_lexer": "ipython3",
   "version": "3.11.9"
  }
 },
 "nbformat": 4,
 "nbformat_minor": 2
}
