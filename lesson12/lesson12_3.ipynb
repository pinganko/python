{
 "cells": [
  {
   "cell_type": "code",
   "execution_count": 1,
   "metadata": {},
   "outputs": [],
   "source": [
    "import requests\n",
    "from pprint import pprint\n",
    "url = 'https://raw.githubusercontent.com/roberthsu2003/python/master/%E6%AA%94%E6%A1%88%E5%AD%98%E5%8F%96/aqx_p_488.json'\n",
    "response = requests.get(url)\n"
   ]
  },
  {
   "cell_type": "code",
   "execution_count": null,
   "metadata": {},
   "outputs": [],
   "source": [
    "#取得文字(str)\n",
    "pprint(response.text)"
   ]
  },
  {
   "cell_type": "code",
   "execution_count": 10,
   "metadata": {},
   "outputs": [
    {
     "name": "stdout",
     "output_type": "stream",
     "text": [
      "{'sitename': '富貴角', 'county': '新北市', 'aqi': '27', 'pollutant': '', 'status': '良好', 'so2': '0.3', 'co': '0.17', 'o3': '39.9', 'o3_8hr': '29.4', 'pm10': '17', 'pm2.5': '7', 'no2': '1.7', 'nox': '2.1', 'no': '0.4', 'windspeed': '1.6', 'winddirec': '258', 'datacreationdate': '2024-06-09 09:00', 'unit': '', 'co_8hr': '0.2', 'pm2.5_avg': '6.7', 'pm10_avg': '15', 'so2_avg': '0', 'longitude': '121.53656894', 'latitude': '25.29681695', 'siteid': '84'}\n",
      "{'sitename': '富貴角', 'county': '新北市', 'aqi': '24', 'pollutant': '', 'status': '良好', 'so2': '0.4', 'co': '0.17', 'o3': '38.6', 'o3_8hr': '26.8', 'pm10': '10', 'pm2.5': '9', 'no2': '2.6', 'nox': '3.2', 'no': '0.6', 'windspeed': '1.6', 'winddirec': '248', 'datacreationdate': '2024-06-09 08:00', 'unit': '', 'co_8hr': '0.2', 'pm2.5_avg': '6.2', 'pm10_avg': '15', 'so2_avg': '0', 'longitude': '121.53656894', 'latitude': '25.29681695', 'siteid': '84'}\n",
      "{'sitename': '富貴角', 'county': '新北市', 'aqi': '24', 'pollutant': '', 'status': '良好', 'so2': '0.5', 'co': '0.2', 'o3': '33.4', 'o3_8hr': '26.8', 'pm10': '11', 'pm2.5': '7', 'no2': '4.6', 'nox': '5.6', 'no': '1', 'windspeed': '2.3', 'winddirec': '250', 'datacreationdate': '2024-06-09 07:00', 'unit': '', 'co_8hr': '0.2', 'pm2.5_avg': '5.7', 'pm10_avg': '17', 'so2_avg': '0', 'longitude': '121.53656894', 'latitude': '25.29681695', 'siteid': '84'}\n",
      "{'sitename': '富貴角', 'county': '新北市', 'aqi': '26', 'pollutant': '', 'status': '良好', 'so2': '0.7', 'co': '0.22', 'o3': '30.8', 'o3_8hr': '28.4', 'pm10': '17', 'pm2.5': '5', 'no2': '4.6', 'nox': '5', 'no': '0.4', 'windspeed': '2.5', 'winddirec': '242', 'datacreationdate': '2024-06-09 06:00', 'unit': '', 'co_8hr': '0.2', 'pm2.5_avg': '5.8', 'pm10_avg': '18', 'so2_avg': '0', 'longitude': '121.53656894', 'latitude': '25.29681695', 'siteid': '84'}\n",
      "{'sitename': '富貴角', 'county': '新北市', 'aqi': '28', 'pollutant': '', 'status': '良好', 'so2': '0.6', 'co': '0.24', 'o3': '26.8', 'o3_8hr': '30.6', 'pm10': '20', 'pm2.5': '5', 'no2': '5', 'nox': '5.2', 'no': '0.2', 'windspeed': '2.6', 'winddirec': '243', 'datacreationdate': '2024-06-09 05:00', 'unit': '', 'co_8hr': '0.1', 'pm2.5_avg': '6.1', 'pm10_avg': '19', 'so2_avg': '0', 'longitude': '121.53656894', 'latitude': '25.29681695', 'siteid': '84'}\n",
      "{'sitename': '富貴角', 'county': '新北市', 'aqi': '31', 'pollutant': '', 'status': '良好', 'so2': '0.3', 'co': '0.22', 'o3': '20.8', 'o3_8hr': '33.9', 'pm10': '25', 'pm2.5': '7', 'no2': '3.9', 'nox': '4.1', 'no': '0.1', 'windspeed': '0.1', 'winddirec': '277', 'datacreationdate': '2024-06-09 04:00', 'unit': '', 'co_8hr': '0.1', 'pm2.5_avg': '6', 'pm10_avg': '18', 'so2_avg': '0', 'longitude': '121.53656894', 'latitude': '25.29681695', 'siteid': '84'}\n",
      "{'sitename': '富貴角', 'county': '新北市', 'aqi': '34', 'pollutant': '', 'status': '良好', 'so2': '0.2', 'co': '0.21', 'o3': '24', 'o3_8hr': '37.2', 'pm10': '21', 'pm2.5': '9', 'no2': '3.4', 'nox': '3.5', 'no': '0.1', 'windspeed': '0.3', 'winddirec': '128', 'datacreationdate': '2024-06-09 03:00', 'unit': '', 'co_8hr': '0.1', 'pm2.5_avg': '5.7', 'pm10_avg': '17', 'so2_avg': '0', 'longitude': '121.53656894', 'latitude': '25.29681695', 'siteid': '84'}\n",
      "{'sitename': '富貴角', 'county': '新北市', 'aqi': '37', 'pollutant': '', 'status': '良好', 'so2': '0.1', 'co': '0.22', 'o3': '20.5', 'o3_8hr': '40.7', 'pm10': '24', 'pm2.5': '9', 'no2': '3.6', 'nox': '3.7', 'no': '0.1', 'windspeed': '0.9', 'winddirec': '148', 'datacreationdate': '2024-06-09 02:00', 'unit': '', 'co_8hr': '0.1', 'pm2.5_avg': '4.7', 'pm10_avg': '15', 'so2_avg': '0', 'longitude': '121.53656894', 'latitude': '25.29681695', 'siteid': '84'}\n",
      "{'sitename': '富貴角', 'county': '新北市', 'aqi': '41', 'pollutant': '', 'status': '良好', 'so2': '0', 'co': '0.24', 'o3': '19.7', 'o3_8hr': '44.3', 'pm10': '15', 'pm2.5': '5', 'no2': '4.6', 'nox': '4.6', 'no': '0', 'windspeed': '0.4', 'winddirec': '141', 'datacreationdate': '2024-06-09 01:00', 'unit': '', 'co_8hr': '0.1', 'pm2.5_avg': '4', 'pm10_avg': '13', 'so2_avg': '0', 'longitude': '121.53656894', 'latitude': '25.29681695', 'siteid': '84'}\n",
      "{'sitename': '富貴角', 'county': '新北市', 'aqi': '44', 'pollutant': '', 'status': '良好', 'so2': '0.1', 'co': '0.14', 'o3': '38.8', 'o3_8hr': '48.3', 'pm10': '18', 'pm2.5': '6', 'no2': '1.9', 'nox': '1.8', 'no': '0', 'windspeed': '0.9', 'winddirec': '160', 'datacreationdate': '2024-06-09 00:00', 'unit': '', 'co_8hr': '0.1', 'pm2.5_avg': '3.7', 'pm10_avg': '13', 'so2_avg': '0', 'longitude': '121.53656894', 'latitude': '25.29681695', 'siteid': '84'}\n",
      "{'sitename': '富貴角', 'county': '新北市', 'aqi': '46', 'pollutant': '', 'status': '良好', 'so2': '0.1', 'co': '0.12', 'o3': '45.4', 'o3_8hr': '50.2', 'pm10': '11', 'pm2.5': '3', 'no2': '1.9', 'nox': '1.8', 'no': '0', 'windspeed': '3.2', 'winddirec': '93', 'datacreationdate': '2024-06-08 23:00', 'unit': '', 'co_8hr': '0.1', 'pm2.5_avg': '3.2', 'pm10_avg': '13', 'so2_avg': '0', 'longitude': '121.53656894', 'latitude': '25.29681695', 'siteid': '84'}\n",
      "{'sitename': '富貴角', 'county': '新北市', 'aqi': '47', 'pollutant': '', 'status': '良好', 'so2': '0.1', 'co': '0.11', 'o3': '48.7', 'o3_8hr': '51.1', 'pm10': '13', 'pm2.5': '5', 'no2': '1.2', 'nox': '1.1', 'no': '0', 'windspeed': '4.6', 'winddirec': '100', 'datacreationdate': '2024-06-08 22:00', 'unit': '', 'co_8hr': '0.1', 'pm2.5_avg': '3.2', 'pm10_avg': '13', 'so2_avg': '0', 'longitude': '121.53656894', 'latitude': '25.29681695', 'siteid': '84'}\n"
     ]
    }
   ],
   "source": [
    "#取得python的資料結構\n",
    "records:list[dict] = response.json()['records']\n",
    "for record in records:\n",
    "    if record['sitename'] == '富貴角':\n",
    "        print(record)"
   ]
  }
 ],
 "metadata": {
  "kernelspec": {
   "display_name": "Python 3",
   "language": "python",
   "name": "python3"
  },
  "language_info": {
   "codemirror_mode": {
    "name": "ipython",
    "version": 3
   },
   "file_extension": ".py",
   "mimetype": "text/x-python",
   "name": "python",
   "nbconvert_exporter": "python",
   "pygments_lexer": "ipython3",
   "version": "3.11.9"
  }
 },
 "nbformat": 4,
 "nbformat_minor": 2
}
