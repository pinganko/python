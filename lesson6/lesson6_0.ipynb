{
 "cells": [
  {
   "cell_type": "code",
   "execution_count": 3,
   "metadata": {},
   "outputs": [
    {
     "name": "stdout",
     "output_type": "stream",
     "text": [
      "格式錯誤\n"
     ]
    }
   ],
   "source": [
    "try:\n",
    "    nums = int(input(\"請輸入一個整數:\"))\n",
    "    if nums % 2 == 0:\n",
    "        print(\"偶數\")\n",
    "    else:\n",
    "        print(\"奇數\")\n",
    "\n",
    "    if nums == 0:\n",
    "        print(\"這是0\")\n",
    "    else:\n",
    "        if nums > 0:\n",
    "            print(\"這是正數\")\n",
    "        else:\n",
    "            print(\"這是負數\")\n",
    "except:\n",
    "    print(\"格式錯誤\")"
   ]
  },
  {
   "cell_type": "code",
   "execution_count": null,
   "metadata": {},
   "outputs": [],
   "source": [
    "try:\n",
    "    nums = int(input(\"請輸入一個整數:\"))\n",
    "    if nums % 2 == 0:\n",
    "        print(\"偶數\")\n",
    "    else:\n",
    "        print(\"奇數\")\n",
    "\n",
    "    if nums == 0:\n",
    "        print(\"這是0\")\n",
    "    elif nums > 0:       \n",
    "        print(\"這是正數\")\n",
    "    else:\n",
    "        print(\"這是負數\")\n",
    "        \n",
    "except:\n",
    "    print(\"格式錯誤\")"
   ]
  },
  {
   "cell_type": "code",
   "execution_count": null,
   "metadata": {},
   "outputs": [],
   "source": [
    "#下列為換算成績等級的程式碼，換算的規則如下：\n",
    "\n",
    "#• 90(含)~100分為「優」\n",
    "#• 80(含)~89分為「甲」\n",
    "#• 70(含)~79分為「乙」\n",
    "#• 60(含)~69分為「丙」\n",
    "#• 0(含)~59分為「丁」"
   ]
  },
  {
   "cell_type": "code",
   "execution_count": 5,
   "metadata": {},
   "outputs": [
    {
     "name": "stdout",
     "output_type": "stream",
     "text": [
      "丁\n"
     ]
    }
   ],
   "source": [
    "score = int(input(\"請輸入分數:\"))\n",
    "if score >= 90:\n",
    "    print(\"優\")\n",
    "elif score >=80:\n",
    "    print(\"甲\")\n",
    "elif score >= 70:\n",
    "    print(\"乙\")\n",
    "elif score >= 60:\n",
    "    print(\"丙\")\n",
    "else:\n",
    "    print(\"丁\")"
   ]
  },
  {
   "cell_type": "code",
   "execution_count": 7,
   "metadata": {},
   "outputs": [
    {
     "name": "stdout",
     "output_type": "stream",
     "text": [
      "加分\n"
     ]
    }
   ],
   "source": [
    "## not\n",
    "\n",
    "is_add = input(\"請問是否加分(y,n):\")\n",
    "if not is_add == 'y':\n",
    "    print(\"不加分\")\n",
    "else:\n",
    "    print(\"加分\")\n",
    "    "
   ]
  },
  {
   "cell_type": "code",
   "execution_count": 10,
   "metadata": {},
   "outputs": [
    {
     "name": "stdout",
     "output_type": "stream",
     "text": [
      "獎金0\n"
     ]
    }
   ],
   "source": [
    "# 國文100 同時 數學100, 獎金1000\n",
    "# 國文100 或者 數學100, 獎金500\n",
    "# 其它0元\n",
    "chinese = int(input(\"請輸入國文分數:\"))\n",
    "math = int(input(\"請輸入數學分數\"))\n",
    "if chinese == 100 and math == 100:\n",
    "    bonus = 1000\n",
    "elif chinese == 100 or math == 100:\n",
    "    bonus = 500\n",
    "else:\n",
    "    bonus = 0\n",
    "\n",
    "print(f\"獎金{bonus}\")\n"
   ]
  }
 ],
 "metadata": {
  "kernelspec": {
   "display_name": "Python 3",
   "language": "python",
   "name": "python3"
  },
  "language_info": {
   "codemirror_mode": {
    "name": "ipython",
    "version": 3
   },
   "file_extension": ".py",
   "mimetype": "text/x-python",
   "name": "python",
   "nbconvert_exporter": "python",
   "pygments_lexer": "ipython3",
   "version": "3.11.9"
  }
 },
 "nbformat": 4,
 "nbformat_minor": 2
}
