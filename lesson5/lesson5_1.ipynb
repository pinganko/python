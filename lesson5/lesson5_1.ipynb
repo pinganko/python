{
 "cells": [
  {
   "cell_type": "code",
   "execution_count": 5,
   "metadata": {},
   "outputs": [
    {
     "name": "stdout",
     "output_type": "stream",
     "text": [
      "False\n",
      "True\n",
      "True\n",
      "False\n"
     ]
    }
   ],
   "source": [
    "#關係運算子\n",
    "#比較運算子\n",
    "\n",
    "print(3 > 5)\n",
    "print(5 > 3)\n",
    "print(5 == 5)\n",
    "print(5 != 5)"
   ]
  },
  {
   "cell_type": "code",
   "execution_count": 9,
   "metadata": {},
   "outputs": [
    {
     "name": "stdout",
     "output_type": "stream",
     "text": [
      "未成年\n",
      "應用程式結束\n"
     ]
    }
   ],
   "source": [
    "age = 17\n",
    "\n",
    "if age >= 18: #雙項選擇\n",
    "    print(\"成年\")\n",
    "else:\n",
    "    print(\"未成年\")\n",
    "print(\"應用程式結束\")"
   ]
  },
  {
   "cell_type": "code",
   "execution_count": null,
   "metadata": {},
   "outputs": [],
   "source": [
    "#學生總分為300(使用者輸入)\n",
    "#有些學生可以加分5%(使用者輸入)\n",
    "#如果加分超過300,就以300分為準\n",
    "#顯示學生的總分\n",
    "\n",
    "score = int(input('請輸入學生分數(最高300分):'))\n",
    "is_add = input(\"學生是否符合加分條件?(y,n)\")\n",
    "if is_add == \"y\": #巢狀判斷\n",
    "    score *= 1.05\n",
    "    if score > 300:\n",
    "        score = 300\n",
    "\n",
    "print(f\"學生總分:{round(score)}\")"
   ]
  },
  {
   "cell_type": "code",
   "execution_count": null,
   "metadata": {},
   "outputs": [],
   "source": [
    "#處理raise錯誤\n",
    "#以下程式為錯誤的使用raise錯誤\n",
    "#因為如果rasise,變數score沒有被建立\n",
    "try:\n",
    "    score = int(input('請輸入學生分數(最高300分):'))\n",
    "except:\n",
    "    print(\"輸入格式有誤\")\n",
    "\n",
    "is_add = input(\"學生是否符合加分條件?(y,n)\")\n",
    "if is_add == \"y\": #巢狀判斷\n",
    "    score *= 1.05\n",
    "    if score > 300:\n",
    "        score = 300\n",
    "\n",
    "print(f\"學生總分:{round(score)}\")"
   ]
  },
  {
   "cell_type": "code",
   "execution_count": 4,
   "metadata": {},
   "outputs": [
    {
     "name": "stdout",
     "output_type": "stream",
     "text": [
      "學生總分:269\n",
      "應用程式結束\n"
     ]
    }
   ],
   "source": [
    "#處理raise錯誤\n",
    "#try..except...else...\n",
    "\n",
    "try:\n",
    "    score = int(input('請輸入學生分數(最高300分):'))\n",
    "except:\n",
    "    print(\"輸入格式有誤\")\n",
    "else:\n",
    "    is_add = input(\"學生是否符合加分條件?(y,n)\")\n",
    "    if is_add == \"y\": #巢狀判斷\n",
    "        score *= 1.05\n",
    "        if score > 300:\n",
    "            score = 300\n",
    "\n",
    "    print(f\"學生總分:{round(score)}\")\n",
    "\n",
    "print(\"應用程式結束\")"
   ]
  },
  {
   "cell_type": "code",
   "execution_count": null,
   "metadata": {},
   "outputs": [],
   "source": [
    "#處理raise錯誤\n",
    "#使用try..except\n",
    "\n",
    "try:\n",
    "    score = int(input('請輸入學生分數(最高300分):'))\n",
    "    is_add = input(\"學生是否符合加分條件?(y,n)\")\n",
    "    if is_add == \"y\": #巢狀判斷\n",
    "        score *= 1.05\n",
    "        if score > 300:\n",
    "            score = 300\n",
    "\n",
    "    print(f\"學生總分:{round(score)}\")\n",
    "except:\n",
    "    print(\"輸入格式有誤\")    \n",
    "\n",
    "print(\"應用程式結束\")"
   ]
  },
  {
   "cell_type": "code",
   "execution_count": 8,
   "metadata": {},
   "outputs": [
    {
     "name": "stdout",
     "output_type": "stream",
     "text": [
      "invalid literal for int() with base 10: '256a'\n",
      "應用程式結束\n"
     ]
    }
   ],
   "source": [
    "#處理使用者輸入的分數是0~300分之間\n",
    "#自已raise錯誤,提早離開應用程式\n",
    "#except:內,接收錯誤的實體\n",
    "\n",
    "try:\n",
    "    score = int(input('請輸入學生分數(最高300分):'))\n",
    "    if score < 0:        \n",
    "        raise ValueError(\"輸入數值要大於等於0\")\n",
    "\n",
    "    if score > 300:\n",
    "        raise ValueError(\"輸入數值要小於等於300\")\n",
    "\n",
    "    is_add = input(\"學生是否符合加分條件?(y,n)\")\n",
    "    if is_add == \"y\": #巢狀判斷\n",
    "        score *= 1.05\n",
    "        if score > 300:\n",
    "            score = 300\n",
    "\n",
    "    print(f\"學生總分:{round(score)}\")\n",
    "except Exception as error:\n",
    "    print(error)    \n",
    "\n",
    "print(\"應用程式結束\")"
   ]
  }
 ],
 "metadata": {
  "kernelspec": {
   "display_name": "Python 3",
   "language": "python",
   "name": "python3"
  },
  "language_info": {
   "codemirror_mode": {
    "name": "ipython",
    "version": 3
   },
   "file_extension": ".py",
   "mimetype": "text/x-python",
   "name": "python",
   "nbconvert_exporter": "python",
   "pygments_lexer": "ipython3",
   "version": "3.11.9"
  }
 },
 "nbformat": 4,
 "nbformat_minor": 2
}
