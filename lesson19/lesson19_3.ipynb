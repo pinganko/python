{
 "cells": [
  {
   "cell_type": "code",
   "execution_count": 1,
   "metadata": {},
   "outputs": [
    {
     "data": {
      "text/html": [
       "<div>\n",
       "<style scoped>\n",
       "    .dataframe tbody tr th:only-of-type {\n",
       "        vertical-align: middle;\n",
       "    }\n",
       "\n",
       "    .dataframe tbody tr th {\n",
       "        vertical-align: top;\n",
       "    }\n",
       "\n",
       "    .dataframe thead th {\n",
       "        text-align: right;\n",
       "    }\n",
       "</style>\n",
       "<table border=\"1\" class=\"dataframe\">\n",
       "  <thead>\n",
       "    <tr style=\"text-align: right;\">\n",
       "      <th></th>\n",
       "      <th>日期</th>\n",
       "      <th>站名</th>\n",
       "      <th>進站</th>\n",
       "      <th>出站</th>\n",
       "    </tr>\n",
       "  </thead>\n",
       "  <tbody>\n",
       "    <tr>\n",
       "      <th>0</th>\n",
       "      <td>2020-01-01</td>\n",
       "      <td>基隆</td>\n",
       "      <td>7552</td>\n",
       "      <td>8154</td>\n",
       "    </tr>\n",
       "    <tr>\n",
       "      <th>1</th>\n",
       "      <td>2020-01-01</td>\n",
       "      <td>三坑</td>\n",
       "      <td>1020</td>\n",
       "      <td>1135</td>\n",
       "    </tr>\n",
       "    <tr>\n",
       "      <th>2</th>\n",
       "      <td>2020-01-01</td>\n",
       "      <td>八堵</td>\n",
       "      <td>1623</td>\n",
       "      <td>1972</td>\n",
       "    </tr>\n",
       "    <tr>\n",
       "      <th>3</th>\n",
       "      <td>2020-01-01</td>\n",
       "      <td>七堵</td>\n",
       "      <td>4130</td>\n",
       "      <td>4813</td>\n",
       "    </tr>\n",
       "    <tr>\n",
       "      <th>4</th>\n",
       "      <td>2020-01-01</td>\n",
       "      <td>百福</td>\n",
       "      <td>1818</td>\n",
       "      <td>2128</td>\n",
       "    </tr>\n",
       "    <tr>\n",
       "      <th>...</th>\n",
       "      <td>...</td>\n",
       "      <td>...</td>\n",
       "      <td>...</td>\n",
       "      <td>...</td>\n",
       "    </tr>\n",
       "    <tr>\n",
       "      <th>86547</th>\n",
       "      <td>2022-12-31</td>\n",
       "      <td>瑞芳</td>\n",
       "      <td>3984</td>\n",
       "      <td>3893</td>\n",
       "    </tr>\n",
       "    <tr>\n",
       "      <th>86548</th>\n",
       "      <td>2022-12-31</td>\n",
       "      <td>海科館</td>\n",
       "      <td>92</td>\n",
       "      <td>115</td>\n",
       "    </tr>\n",
       "    <tr>\n",
       "      <th>86549</th>\n",
       "      <td>2022-12-31</td>\n",
       "      <td>八斗子</td>\n",
       "      <td>131</td>\n",
       "      <td>159</td>\n",
       "    </tr>\n",
       "    <tr>\n",
       "      <th>86550</th>\n",
       "      <td>2022-12-31</td>\n",
       "      <td>四腳亭</td>\n",
       "      <td>494</td>\n",
       "      <td>426</td>\n",
       "    </tr>\n",
       "    <tr>\n",
       "      <th>86551</th>\n",
       "      <td>2022-12-31</td>\n",
       "      <td>暖暖</td>\n",
       "      <td>313</td>\n",
       "      <td>274</td>\n",
       "    </tr>\n",
       "  </tbody>\n",
       "</table>\n",
       "<p>406761 rows × 4 columns</p>\n",
       "</div>"
      ],
      "text/plain": [
       "              日期   站名    進站    出站\n",
       "0     2020-01-01   基隆  7552  8154\n",
       "1     2020-01-01   三坑  1020  1135\n",
       "2     2020-01-01   八堵  1623  1972\n",
       "3     2020-01-01   七堵  4130  4813\n",
       "4     2020-01-01   百福  1818  2128\n",
       "...          ...  ...   ...   ...\n",
       "86547 2022-12-31   瑞芳  3984  3893\n",
       "86548 2022-12-31  海科館    92   115\n",
       "86549 2022-12-31  八斗子   131   159\n",
       "86550 2022-12-31  四腳亭   494   426\n",
       "86551 2022-12-31   暖暖   313   274\n",
       "\n",
       "[406761 rows x 4 columns]"
      ]
     },
     "execution_count": 1,
     "metadata": {},
     "output_type": "execute_result"
    }
   ],
   "source": [
    "from tools import get_path,station_info,merge_dataFrame\n",
    "import pandas as pd\n",
    "\n",
    "fileName_list = get_path()\n",
    "stations_df = station_info()\n",
    "all_in_out = merge_dataFrame(fileName_list, stations_df)\n",
    "station_in_out= pd.concat(all_in_out)\n",
    "station_in_out"
   ]
  },
  {
   "cell_type": "code",
   "execution_count": 2,
   "metadata": {},
   "outputs": [
    {
     "name": "stdout",
     "output_type": "stream",
     "text": [
      "<class 'pandas.core.frame.DataFrame'>\n",
      "Index: 406761 entries, 0 to 86551\n",
      "Data columns (total 4 columns):\n",
      " #   Column  Non-Null Count   Dtype         \n",
      "---  ------  --------------   -----         \n",
      " 0   日期      406761 non-null  datetime64[ns]\n",
      " 1   站名      406761 non-null  object        \n",
      " 2   進站      406761 non-null  int64         \n",
      " 3   出站      406761 non-null  int64         \n",
      "dtypes: datetime64[ns](1), int64(2), object(1)\n",
      "memory usage: 15.5+ MB\n"
     ]
    }
   ],
   "source": [
    "station_in_out.info()"
   ]
  },
  {
   "cell_type": "code",
   "execution_count": 3,
   "metadata": {},
   "outputs": [
    {
     "data": {
      "text/plain": [
       "日期    2023-12-31 00:00:00\n",
       "站名                     基隆\n",
       "進站                  15010\n",
       "出站                  12986\n",
       "dtype: object"
      ]
     },
     "execution_count": 3,
     "metadata": {},
     "output_type": "execute_result"
    }
   ],
   "source": [
    "station_in_out.query('站名==\"基隆\"').max()\n"
   ]
  },
  {
   "cell_type": "code",
   "execution_count": 7,
   "metadata": {},
   "outputs": [
    {
     "data": {
      "text/plain": [
       "站名\n",
       "七堵     7704\n",
       "三坑     1715\n",
       "三塊厝     933\n",
       "三姓橋    2125\n",
       "三民       52\n",
       "       ... \n",
       "鼓山     2352\n",
       "龍井     2131\n",
       "龍泉      103\n",
       "龍港      106\n",
       "龜山      389\n",
       "Name: 進站, Length: 241, dtype: int64"
      ]
     },
     "execution_count": 7,
     "metadata": {},
     "output_type": "execute_result"
    }
   ],
   "source": [
    "station_in_out.groupby(by='站名')['進站'].max()"
   ]
  }
 ],
 "metadata": {
  "kernelspec": {
   "display_name": "Python 3",
   "language": "python",
   "name": "python3"
  },
  "language_info": {
   "codemirror_mode": {
    "name": "ipython",
    "version": 3
   },
   "file_extension": ".py",
   "mimetype": "text/x-python",
   "name": "python",
   "nbconvert_exporter": "python",
   "pygments_lexer": "ipython3",
   "version": "3.11.9"
  }
 },
 "nbformat": 4,
 "nbformat_minor": 2
}
